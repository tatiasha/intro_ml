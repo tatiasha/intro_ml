{
 "cells": [
  {
   "cell_type": "code",
   "execution_count": 1,
   "metadata": {},
   "outputs": [],
   "source": [
    "import pandas as pd\n",
    "import numpy as np\n",
    "from scipy.stats import pearsonr\n",
    "from collections import Counter\n",
    "from sklearn.tree import DecisionTreeClassifier"
   ]
  },
  {
   "cell_type": "code",
   "execution_count": 2,
   "metadata": {},
   "outputs": [
    {
     "data": {
      "text/html": [
       "<div>\n",
       "<style scoped>\n",
       "    .dataframe tbody tr th:only-of-type {\n",
       "        vertical-align: middle;\n",
       "    }\n",
       "\n",
       "    .dataframe tbody tr th {\n",
       "        vertical-align: top;\n",
       "    }\n",
       "\n",
       "    .dataframe thead th {\n",
       "        text-align: right;\n",
       "    }\n",
       "</style>\n",
       "<table border=\"1\" class=\"dataframe\">\n",
       "  <thead>\n",
       "    <tr style=\"text-align: right;\">\n",
       "      <th></th>\n",
       "      <th>PassengerId</th>\n",
       "      <th>Survived</th>\n",
       "      <th>Pclass</th>\n",
       "      <th>Name</th>\n",
       "      <th>Sex</th>\n",
       "      <th>Age</th>\n",
       "      <th>SibSp</th>\n",
       "      <th>Parch</th>\n",
       "      <th>Ticket</th>\n",
       "      <th>Fare</th>\n",
       "      <th>Cabin</th>\n",
       "      <th>Embarked</th>\n",
       "    </tr>\n",
       "  </thead>\n",
       "  <tbody>\n",
       "    <tr>\n",
       "      <td>0</td>\n",
       "      <td>1</td>\n",
       "      <td>0</td>\n",
       "      <td>3</td>\n",
       "      <td>Braund, Mr. Owen Harris</td>\n",
       "      <td>male</td>\n",
       "      <td>22.0</td>\n",
       "      <td>1</td>\n",
       "      <td>0</td>\n",
       "      <td>A/5 21171</td>\n",
       "      <td>7.2500</td>\n",
       "      <td>NaN</td>\n",
       "      <td>S</td>\n",
       "    </tr>\n",
       "    <tr>\n",
       "      <td>1</td>\n",
       "      <td>2</td>\n",
       "      <td>1</td>\n",
       "      <td>1</td>\n",
       "      <td>Cumings, Mrs. John Bradley (Florence Briggs Th...</td>\n",
       "      <td>female</td>\n",
       "      <td>38.0</td>\n",
       "      <td>1</td>\n",
       "      <td>0</td>\n",
       "      <td>PC 17599</td>\n",
       "      <td>71.2833</td>\n",
       "      <td>C85</td>\n",
       "      <td>C</td>\n",
       "    </tr>\n",
       "    <tr>\n",
       "      <td>2</td>\n",
       "      <td>3</td>\n",
       "      <td>1</td>\n",
       "      <td>3</td>\n",
       "      <td>Heikkinen, Miss. Laina</td>\n",
       "      <td>female</td>\n",
       "      <td>26.0</td>\n",
       "      <td>0</td>\n",
       "      <td>0</td>\n",
       "      <td>STON/O2. 3101282</td>\n",
       "      <td>7.9250</td>\n",
       "      <td>NaN</td>\n",
       "      <td>S</td>\n",
       "    </tr>\n",
       "    <tr>\n",
       "      <td>3</td>\n",
       "      <td>4</td>\n",
       "      <td>1</td>\n",
       "      <td>1</td>\n",
       "      <td>Futrelle, Mrs. Jacques Heath (Lily May Peel)</td>\n",
       "      <td>female</td>\n",
       "      <td>35.0</td>\n",
       "      <td>1</td>\n",
       "      <td>0</td>\n",
       "      <td>113803</td>\n",
       "      <td>53.1000</td>\n",
       "      <td>C123</td>\n",
       "      <td>S</td>\n",
       "    </tr>\n",
       "    <tr>\n",
       "      <td>4</td>\n",
       "      <td>5</td>\n",
       "      <td>0</td>\n",
       "      <td>3</td>\n",
       "      <td>Allen, Mr. William Henry</td>\n",
       "      <td>male</td>\n",
       "      <td>35.0</td>\n",
       "      <td>0</td>\n",
       "      <td>0</td>\n",
       "      <td>373450</td>\n",
       "      <td>8.0500</td>\n",
       "      <td>NaN</td>\n",
       "      <td>S</td>\n",
       "    </tr>\n",
       "  </tbody>\n",
       "</table>\n",
       "</div>"
      ],
      "text/plain": [
       "   PassengerId  Survived  Pclass  \\\n",
       "0            1         0       3   \n",
       "1            2         1       1   \n",
       "2            3         1       3   \n",
       "3            4         1       1   \n",
       "4            5         0       3   \n",
       "\n",
       "                                                Name     Sex   Age  SibSp  \\\n",
       "0                            Braund, Mr. Owen Harris    male  22.0      1   \n",
       "1  Cumings, Mrs. John Bradley (Florence Briggs Th...  female  38.0      1   \n",
       "2                             Heikkinen, Miss. Laina  female  26.0      0   \n",
       "3       Futrelle, Mrs. Jacques Heath (Lily May Peel)  female  35.0      1   \n",
       "4                           Allen, Mr. William Henry    male  35.0      0   \n",
       "\n",
       "   Parch            Ticket     Fare Cabin Embarked  \n",
       "0      0         A/5 21171   7.2500   NaN        S  \n",
       "1      0          PC 17599  71.2833   C85        C  \n",
       "2      0  STON/O2. 3101282   7.9250   NaN        S  \n",
       "3      0            113803  53.1000  C123        S  \n",
       "4      0            373450   8.0500   NaN        S  "
      ]
     },
     "execution_count": 2,
     "metadata": {},
     "output_type": "execute_result"
    }
   ],
   "source": [
    "data = pd.read_csv('../data/titanic.csv')\n",
    "data.head()"
   ]
  },
  {
   "cell_type": "markdown",
   "metadata": {},
   "source": [
    "Какое количество мужчин и женщин ехало на корабле?\n",
    "В качестве ответа приведите два числа через пробел."
   ]
  },
  {
   "cell_type": "code",
   "execution_count": 3,
   "metadata": {},
   "outputs": [
    {
     "data": {
      "text/plain": [
       "(577, 314)"
      ]
     },
     "execution_count": 3,
     "metadata": {},
     "output_type": "execute_result"
    }
   ],
   "source": [
    "len(data.loc[data['Sex']=='male']), len(data.loc[data['Sex']=='female'])"
   ]
  },
  {
   "cell_type": "code",
   "execution_count": 4,
   "metadata": {},
   "outputs": [],
   "source": [
    "task1 = open(\"../data/submissions/week1_task1.txt\",\"w\")\n",
    "task1.write(\"577 314\") \n",
    "task1.close()"
   ]
  },
  {
   "cell_type": "markdown",
   "metadata": {},
   "source": [
    "Какой части пассажиров удалось выжить? Посчитайте долю выживших пассажиров. \n",
    "Ответ приведите в процентах (число в интервале от 0 до 100, знак процента не нужен), округлив до двух знаков."
   ]
  },
  {
   "cell_type": "code",
   "execution_count": 5,
   "metadata": {},
   "outputs": [
    {
     "data": {
      "text/plain": [
       "38.38"
      ]
     },
     "execution_count": 5,
     "metadata": {},
     "output_type": "execute_result"
    }
   ],
   "source": [
    "round(100*len(data.loc[data['Survived']==1])/len(data),2)"
   ]
  },
  {
   "cell_type": "code",
   "execution_count": 6,
   "metadata": {},
   "outputs": [],
   "source": [
    "task2 = open(\"../data/submissions/week1_task2.txt\",\"w\")\n",
    "task2.write(\"38.38\") \n",
    "task2.close()"
   ]
  },
  {
   "cell_type": "markdown",
   "metadata": {},
   "source": [
    "Какую долю пассажиры первого класса составляли среди всех пассажиров? \n",
    "Ответ приведите в процентах (число в интервале от 0 до 100, знак процента не нужен), округлив до двух знаков."
   ]
  },
  {
   "cell_type": "code",
   "execution_count": 7,
   "metadata": {},
   "outputs": [
    {
     "data": {
      "text/plain": [
       "24.24"
      ]
     },
     "execution_count": 7,
     "metadata": {},
     "output_type": "execute_result"
    }
   ],
   "source": [
    "round(100*len(data.loc[data['Pclass']==1])/len(data),2)"
   ]
  },
  {
   "cell_type": "code",
   "execution_count": 8,
   "metadata": {},
   "outputs": [],
   "source": [
    "task3 = open(\"../data/submissions/week1_task3.txt\",\"w\")\n",
    "task3.write(\"24.24\") \n",
    "task3.close()"
   ]
  },
  {
   "cell_type": "markdown",
   "metadata": {},
   "source": [
    "Какого возраста были пассажиры? \n",
    "Посчитайте среднее и медиану возраста пассажиров. В качестве ответа приведите два числа через пробел."
   ]
  },
  {
   "cell_type": "code",
   "execution_count": 9,
   "metadata": {},
   "outputs": [
    {
     "data": {
      "text/plain": [
       "(29.7, 28.0)"
      ]
     },
     "execution_count": 9,
     "metadata": {},
     "output_type": "execute_result"
    }
   ],
   "source": [
    "round(data['Age'].mean(),2), round(data['Age'].median(),2)"
   ]
  },
  {
   "cell_type": "code",
   "execution_count": 10,
   "metadata": {},
   "outputs": [],
   "source": [
    "task4 = open(\"../data/submissions/week1_task4.txt\",\"w\")\n",
    "task4.write(\"29.7 28.0\") \n",
    "task4.close()"
   ]
  },
  {
   "cell_type": "markdown",
   "metadata": {},
   "source": [
    "Коррелируют ли число братьев/сестер/супругов с числом родителей/детей? \n",
    "Посчитайте корреляцию Пирсона между признаками SibSp и Parch."
   ]
  },
  {
   "cell_type": "code",
   "execution_count": 11,
   "metadata": {},
   "outputs": [
    {
     "data": {
      "text/plain": [
       "0.41"
      ]
     },
     "execution_count": 11,
     "metadata": {},
     "output_type": "execute_result"
    }
   ],
   "source": [
    "round(pearsonr(data['SibSp'].tolist(), data['Parch'].tolist())[0], 2)"
   ]
  },
  {
   "cell_type": "code",
   "execution_count": 12,
   "metadata": {},
   "outputs": [],
   "source": [
    "task5 = open(\"../data/submissions/week1_task5.txt\",\"w\")\n",
    "task5.write(\"0.41\") \n",
    "task5.close()"
   ]
  },
  {
   "cell_type": "markdown",
   "metadata": {},
   "source": [
    "Какое самое популярное женское имя на корабле? \n",
    "Извлеките из полного имени пассажира (колонка Name) его личное имя (First Name). \n",
    "Это задание — типичный пример того, с чем сталкивается специалист по анализу данных. \n",
    "Данные очень разнородные и шумные, но из них требуется извлечь необходимую информацию. \n",
    "Попробуйте вручную разобрать несколько значений столбца Name и выработать правило для извлечения имен,\n",
    "а также разделения их на женские и мужские."
   ]
  },
  {
   "cell_type": "code",
   "execution_count": 13,
   "metadata": {},
   "outputs": [
    {
     "data": {
      "text/plain": [
       "['Cumings, Mrs. John Bradley (Florence Briggs Thayer)',\n",
       " 'Heikkinen, Miss. Laina',\n",
       " 'Futrelle, Mrs. Jacques Heath (Lily May Peel)',\n",
       " 'Johnson, Mrs. Oscar W (Elisabeth Vilhelmina Berg)',\n",
       " 'Nasser, Mrs. Nicholas (Adele Achem)',\n",
       " 'Sandstrom, Miss. Marguerite Rut',\n",
       " 'Bonnell, Miss. Elizabeth',\n",
       " 'Vestrom, Miss. Hulda Amanda Adolfina',\n",
       " 'Hewlett, Mrs. (Mary D Kingcome) ',\n",
       " 'Vander Planke, Mrs. Julius (Emelia Maria Vandemoortele)',\n",
       " 'Masselmani, Mrs. Fatima',\n",
       " 'McGowan, Miss. Anna \"Annie\"',\n",
       " 'Palsson, Miss. Torborg Danira',\n",
       " 'Asplund, Mrs. Carl Oscar (Selma Augusta Emilia Johansson)',\n",
       " 'O\\'Dwyer, Miss. Ellen \"Nellie\"',\n",
       " 'Spencer, Mrs. William Augustus (Marie Eugenie)',\n",
       " 'Glynn, Miss. Mary Agatha',\n",
       " 'Vander Planke, Miss. Augusta Maria',\n",
       " 'Nicola-Yarred, Miss. Jamila',\n",
       " 'Ahlin, Mrs. Johan (Johanna Persdotter Larsson)',\n",
       " 'Turpin, Mrs. William John Robert (Dorothy Ann Wonnacott)',\n",
       " 'Laroche, Miss. Simonne Marie Anne Andree',\n",
       " 'Devaney, Miss. Margaret Delia',\n",
       " \"O'Driscoll, Miss. Bridget\",\n",
       " 'Arnold-Franchi, Mrs. Josef (Josefine Franchi)',\n",
       " 'Harper, Mrs. Henry Sleeper (Myna Haxtun)',\n",
       " 'Faunthorpe, Mrs. Lizzie (Elizabeth Anne Wilkinson)',\n",
       " 'Rugg, Miss. Emily',\n",
       " 'West, Miss. Constance Mirium',\n",
       " 'Icard, Miss. Amelie',\n",
       " 'Nye, Mrs. (Elizabeth Ramell)',\n",
       " 'Andersson, Miss. Erna Alexandra',\n",
       " 'Goodwin, Miss. Lillian Amy',\n",
       " 'Dowdell, Miss. Elizabeth',\n",
       " 'McDermott, Miss. Brigdet Delia',\n",
       " 'Ilett, Miss. Bertha',\n",
       " 'Backstrom, Mrs. Karl Alfred (Maria Mathilda Gustafsson)',\n",
       " 'Fortune, Miss. Mabel Helen',\n",
       " 'Doling, Mrs. John T (Ada Julia Bone)',\n",
       " 'Petranec, Miss. Matilda',\n",
       " 'Salkjelsvik, Miss. Anna Kristine',\n",
       " 'Moran, Miss. Bertha',\n",
       " 'Zabour, Miss. Hileni',\n",
       " 'Jussila, Miss. Katriina',\n",
       " 'Attalah, Miss. Malake',\n",
       " 'Andersson, Miss. Ellis Anna Maria',\n",
       " 'Webber, Miss. Susan',\n",
       " 'Peter, Miss. Anna',\n",
       " 'Robins, Mrs. Alexander A (Grace Charity Laury)',\n",
       " 'Weisz, Mrs. Leopold (Mathilde Francoise Pede)',\n",
       " 'Newsom, Miss. Helen Monypeny',\n",
       " 'Boulos, Mrs. Joseph (Sultana)',\n",
       " 'Nysten, Miss. Anna Sofia',\n",
       " 'Hakkarainen, Mrs. Pekka Pietari (Elin Matilda Dolck)',\n",
       " 'Ford, Miss. Robina Maggie \"Ruby\"',\n",
       " 'Pears, Mrs. Thomas (Edith Wearne)',\n",
       " 'Gilnagh, Miss. Katherine \"Katie\"',\n",
       " 'Watt, Mrs. James (Elizabeth \"Bessie\" Inglis Milne)',\n",
       " 'Chibnall, Mrs. (Edith Martha Bowerman)',\n",
       " 'Skoog, Mrs. William (Anna Bernhardina Karlsson)',\n",
       " 'Johnson, Miss. Eleanor Ileen',\n",
       " 'Isham, Miss. Ann Elizabeth',\n",
       " 'Sage, Miss. Constance Gladys',\n",
       " 'Kink-Heilmann, Miss. Luise Gretchen',\n",
       " 'O\\'Brien, Mrs. Thomas (Johanna \"Hannah\" Godfrey)',\n",
       " 'Pinsky, Mrs. (Rosa)',\n",
       " 'Andersen-Jensen, Miss. Carla Christine Nielsine',\n",
       " 'Brown, Mrs. James Joseph (Margaret Tobin)',\n",
       " 'Lurette, Miss. Elise',\n",
       " 'Madigan, Miss. Margaret \"Maggie\"',\n",
       " 'Yrois, Miss. Henriette (\"Mrs Harbeck\")',\n",
       " 'Strom, Miss. Telma Matilda',\n",
       " 'Carr, Miss. Helen \"Ellen\"',\n",
       " 'Cameron, Miss. Clear Annie',\n",
       " 'Newell, Miss. Madeleine',\n",
       " 'Honkanen, Miss. Eliina',\n",
       " 'Bazzani, Miss. Albina',\n",
       " 'Lefebre, Miss. Mathilde',\n",
       " 'Harris, Mrs. Henry Birkhardt (Irene Wallach)',\n",
       " 'Asplund, Miss. Lillian Gertrud',\n",
       " 'Harknett, Miss. Alice Phoebe',\n",
       " 'Collyer, Miss. Marjorie \"Lottie\"',\n",
       " 'Zabour, Miss. Thamine',\n",
       " 'Murphy, Miss. Katherine \"Kate\"',\n",
       " 'Lindahl, Miss. Agda Thorilda Viktoria',\n",
       " 'Hamalainen, Mrs. William (Anna)',\n",
       " 'Strom, Mrs. Wilhelm (Elna Matilda Persson)',\n",
       " 'Rosblom, Mrs. Viktor (Helena Wilhelmina)',\n",
       " 'Touma, Mrs. Darwis (Hanne Youssef Razi)',\n",
       " 'Thorne, Mrs. Gertrude Maybelle',\n",
       " 'Cherry, Miss. Gladys',\n",
       " 'Ward, Miss. Anna',\n",
       " 'Parrish, Mrs. (Lutie Davis)',\n",
       " 'Henry, Miss. Delia',\n",
       " 'Graham, Mrs. William Thompson (Edith Junkins)',\n",
       " 'Bissette, Miss. Amelia',\n",
       " 'Mellinger, Mrs. (Elizabeth Anne Maidment)',\n",
       " 'Healy, Miss. Hanora \"Nora\"',\n",
       " 'Andrews, Miss. Kornelia Theodosia',\n",
       " 'Lindblom, Miss. Augusta Charlotta',\n",
       " 'Abbott, Mrs. Stanton (Rosa Hunt)',\n",
       " 'Connolly, Miss. Kate',\n",
       " 'Barber, Miss. Ellen \"Nellie\"',\n",
       " 'Bishop, Mrs. Dickinson H (Helen Walton)',\n",
       " 'Haas, Miss. Aloisia',\n",
       " 'Allison, Miss. Helen Loraine',\n",
       " 'Baxter, Mrs. James (Helene DeLaudeniere Chaput)',\n",
       " 'Kelly, Miss. Anna Katherine \"Annie Kate\"',\n",
       " 'Keane, Miss. Nora A',\n",
       " 'Fleming, Miss. Margaret',\n",
       " 'Penasco y Castellana, Mrs. Victor de Satode (Maria Josefa Perez de Soto y Vallejo)',\n",
       " 'Francatelli, Miss. Laura Mabel',\n",
       " 'Hays, Miss. Margaret Bechstein',\n",
       " 'Ryerson, Miss. Emily Borie',\n",
       " 'Lahtinen, Mrs. William (Anna Sylfven)',\n",
       " 'Nilsson, Miss. Helmina Josefina',\n",
       " 'Kantor, Mrs. Sinai (Miriam Sternin)',\n",
       " 'Wick, Miss. Mary Natalie',\n",
       " 'Spedden, Mrs. Frederic Oakley (Margaretta Corning Stone)',\n",
       " 'Slayter, Miss. Hilda Mary',\n",
       " 'Caldwell, Mrs. Albert Francis (Sylvia Mae Harbaugh)',\n",
       " 'Young, Miss. Marie Grice',\n",
       " 'Ball, Mrs. (Ada E Hall)',\n",
       " 'Goldsmith, Mrs. Frank John (Emily Alice Brown)',\n",
       " 'Hippach, Miss. Jean Gertrude',\n",
       " 'McCoy, Miss. Agnes',\n",
       " 'Frauenthal, Mrs. Henry William (Clara Heinsheimer)',\n",
       " 'Burns, Miss. Elizabeth Margaret',\n",
       " 'Fortune, Miss. Alice Elizabeth',\n",
       " 'Brown, Miss. Amelia \"Mildred\"',\n",
       " 'Smith, Miss. Marion Elsie',\n",
       " 'Davison, Mrs. Thomas Henry (Mary E Finck)',\n",
       " 'Bowerman, Miss. Elsie Edith',\n",
       " 'Funk, Miss. Annie Clemmer',\n",
       " 'McGovern, Miss. Mary',\n",
       " 'Mockler, Miss. Helen Mary \"Ellie\"',\n",
       " 'Barbara, Mrs. (Catherine David)',\n",
       " 'Warren, Mrs. Frank Manley (Anna Sophia Atkinson)',\n",
       " 'Moussa, Mrs. (Mantoura Boulos)',\n",
       " 'Jermyn, Miss. Annie',\n",
       " 'Aubart, Mme. Leontine Pauline',\n",
       " 'Palsson, Miss. Stina Viola',\n",
       " 'Meyer, Mrs. Edgar Joseph (Leila Saks)',\n",
       " 'Landergren, Miss. Aurora Adelia',\n",
       " 'Bidois, Miss. Rosalie',\n",
       " 'Nakid, Miss. Maria (\"Mary\")',\n",
       " 'Holverson, Mrs. Alexander Oskar (Mary Aline Towner)',\n",
       " 'Buss, Miss. Kate',\n",
       " 'Lehmann, Miss. Bertha',\n",
       " 'Newell, Miss. Marjorie',\n",
       " 'Sandstrom, Mrs. Hjalmar (Agnes Charlotta Bengtsson)',\n",
       " 'Olsson, Miss. Elina',\n",
       " 'Trout, Mrs. William H (Jessie L)',\n",
       " 'Jussila, Miss. Mari Aina',\n",
       " 'Oreskovic, Miss. Marija',\n",
       " 'Lefebre, Miss. Ida',\n",
       " 'Minahan, Miss. Daisy E',\n",
       " 'Meek, Mrs. Thomas (Annie Louise Rowley)',\n",
       " 'Drew, Mrs. James Vivian (Lulu Thorne Christian)',\n",
       " 'Silven, Miss. Lyyli Karoliina',\n",
       " 'Van Impe, Miss. Catharina',\n",
       " 'Danbom, Mrs. Ernst Gilbert (Anna Sigrid Maria Brogren)',\n",
       " 'Clarke, Mrs. Charles V (Ada Maria Winfield)',\n",
       " 'Phillips, Miss. Kate Florence (\"Mrs Kate Louise Phillips Marshall\")',\n",
       " 'Thorneycroft, Mrs. Percival (Florence Kate White)',\n",
       " 'Louch, Mrs. Charles Alexander (Alice Adelaide Slow)',\n",
       " 'Carter, Miss. Lucile Polk',\n",
       " 'Ford, Miss. Doolina Margaret \"Daisy\"',\n",
       " 'Richards, Mrs. Sidney (Emily Hocking)',\n",
       " 'Hart, Mrs. Benjamin (Esther Ada Bloomfield)',\n",
       " 'Reynaldo, Ms. Encarnacion',\n",
       " 'Mellinger, Miss. Madeleine Violet',\n",
       " 'Baclini, Miss. Marie Catherine',\n",
       " 'Kenyon, Mrs. Frederick R (Marion)',\n",
       " 'Toomey, Miss. Ellen',\n",
       " 'Baclini, Miss. Helene Barbara',\n",
       " 'West, Mrs. Edwy Arthur (Ada Mary Worth)',\n",
       " 'Jerwan, Mrs. Amin S (Marie Marthe Thuillard)',\n",
       " 'Strandberg, Miss. Ida Sofia',\n",
       " 'Hirvonen, Miss. Hildur E',\n",
       " 'Turkula, Mrs. (Hedwig)',\n",
       " 'Lefebre, Miss. Jeannie',\n",
       " 'Hoyt, Mrs. Frederick Maxfield (Jane Anne Forby)',\n",
       " 'Eustis, Miss. Elizabeth Mussey',\n",
       " 'Allison, Mrs. Hudson J C (Bessie Waldo Daniels)',\n",
       " 'Canavan, Miss. Mary',\n",
       " \"O'Sullivan, Miss. Bridget Mary\",\n",
       " 'Laitinen, Miss. Kristina Sofia',\n",
       " 'Maioni, Miss. Roberta',\n",
       " 'Quick, Mrs. Frederick Charles (Jane Richards)',\n",
       " 'Rothschild, Mrs. Martin (Elizabeth L. Barrett)',\n",
       " 'Lemore, Mrs. (Amelia Milley)',\n",
       " 'Angle, Mrs. William A (Florence \"Mary\" Agnes Hughes)',\n",
       " 'Perreault, Miss. Anne',\n",
       " 'Hippach, Mrs. Louis Albert (Ida Sophia Fischer)',\n",
       " 'Ridsdale, Miss. Lucy',\n",
       " 'Quick, Miss. Phyllis May',\n",
       " 'Peter, Mrs. Catherine (Catherine Rizk)',\n",
       " 'Cacic, Miss. Marija',\n",
       " 'Hart, Miss. Eva Miriam',\n",
       " 'LeRoy, Miss. Bertha',\n",
       " 'Frolicher, Miss. Hedwig Margaritha',\n",
       " 'Crosby, Miss. Harriet R',\n",
       " 'Andersson, Miss. Ingeborg Constanzia',\n",
       " 'Andersson, Miss. Sigrid Elisabeth',\n",
       " 'Beane, Mrs. Edward (Ethel Clarke)',\n",
       " 'Ohman, Miss. Velin',\n",
       " 'Duff Gordon, Lady. (Lucille Christiana Sutherland) (\"Mrs Morgan\")',\n",
       " 'Taussig, Mrs. Emil (Tillie Mandelbaum)',\n",
       " 'de Messemaeker, Mrs. Guillaume Joseph (Emma)',\n",
       " 'Meanwell, Miss. (Marion Ogden)',\n",
       " 'Palsson, Mrs. Nils (Alma Cornelia Berglund)',\n",
       " 'Appleton, Mrs. Edward Dale (Charlotte Lamson)',\n",
       " 'Kelly, Miss. Mary',\n",
       " 'Garside, Miss. Ethel',\n",
       " 'Silvey, Mrs. William Baird (Alice Munger)',\n",
       " 'Caram, Mrs. Joseph (Maria Elias)',\n",
       " 'Christy, Miss. Julie Rachel',\n",
       " 'Thayer, Mrs. John Borland (Marian Longstreth Morris)',\n",
       " 'Taussig, Miss. Ruth',\n",
       " 'Stephenson, Mrs. Walter Bertram (Martha Eustis)',\n",
       " 'Bourke, Miss. Mary',\n",
       " 'Leitch, Miss. Jessie Wills',\n",
       " 'Jacobsohn, Mrs. Sidney Samuel (Amy Frances Christy)',\n",
       " 'Laroche, Mrs. Joseph (Juliette Marie Louise Lafargue)',\n",
       " 'Shutes, Miss. Elizabeth W',\n",
       " 'Andersson, Mrs. Anders Johan (Alfrida Konstantia Brogren)',\n",
       " 'Murphy, Miss. Margaret Jane',\n",
       " 'Herman, Miss. Alice',\n",
       " 'Lobb, Mrs. William Arthur (Cordelia K Stanlick)',\n",
       " 'Becker, Miss. Marion Louise',\n",
       " 'Longley, Miss. Gretchen Fiske',\n",
       " 'Skoog, Miss. Mabel',\n",
       " 'Davis, Miss. Mary',\n",
       " 'Panula, Mrs. Juha (Maria Emilia Ojala)',\n",
       " 'Sagesser, Mlle. Emma',\n",
       " 'Skoog, Miss. Margit Elizabeth',\n",
       " 'Baclini, Miss. Eugenie',\n",
       " 'Stanley, Miss. Amy Zillah Elsie',\n",
       " 'Doling, Miss. Elsie',\n",
       " 'O\\'Leary, Miss. Hanora \"Norah\"',\n",
       " 'Hegarty, Miss. Hanora \"Nora\"',\n",
       " 'Bourke, Mrs. John (Catherine)',\n",
       " 'Taylor, Mrs. Elmer Zebley (Juliet Cummins Wright)',\n",
       " 'Brown, Mrs. Thomas William Solomon (Elizabeth Catherine Ford)',\n",
       " 'Turja, Miss. Anna Sofia',\n",
       " 'Goodwin, Mrs. Frederick (Augusta Tyler)',\n",
       " 'Peters, Miss. Katie',\n",
       " 'Madill, Miss. Georgette Alexandra',\n",
       " 'Karun, Miss. Manca',\n",
       " 'Mullens, Miss. Katherine \"Katie\"',\n",
       " 'Astor, Mrs. John Jacob (Madeleine Talmadge Force)',\n",
       " 'Barbara, Miss. Saiide',\n",
       " 'Kelly, Mrs. Florence \"Fannie\"',\n",
       " 'Cleaver, Miss. Alice',\n",
       " 'Mayne, Mlle. Berthe Antonine (\"Mrs de Villiers\")',\n",
       " 'Endres, Miss. Caroline Louise',\n",
       " 'Troutt, Miss. Edwina Celia \"Winnie\"',\n",
       " 'Harper, Miss. Annie Jessie \"Nina\"',\n",
       " 'Renouf, Mrs. Peter Henry (Lillian Jefferys)',\n",
       " 'Mannion, Miss. Margareth',\n",
       " 'Ilmakangas, Miss. Pieta Sofia',\n",
       " 'Allen, Miss. Elisabeth Walton',\n",
       " 'Ford, Mrs. Edward (Margaret Ann Watson)',\n",
       " 'Ryerson, Miss. Susan Parker \"Suzette\"',\n",
       " 'Sinkkonen, Miss. Anna',\n",
       " 'Wells, Miss. Joan',\n",
       " 'Herman, Mrs. Samuel (Jane Laver)',\n",
       " 'Rothes, the Countess. of (Lucy Noel Martha Dyer-Edwards)',\n",
       " 'Carter, Mrs. William Ernest (Lucile Polk)',\n",
       " 'Hogeboom, Mrs. John C (Anna Andrews)',\n",
       " 'Mangan, Miss. Mary',\n",
       " 'Mack, Mrs. (Mary)',\n",
       " 'Hocking, Mrs. Elizabeth (Eliza Needs)',\n",
       " 'Emanuel, Miss. Virginia Ethel',\n",
       " 'Robert, Mrs. Edward Scott (Elisabeth Walton McMillan)',\n",
       " 'Ayoub, Miss. Banoura',\n",
       " 'Dick, Mrs. Albert Adrian (Vera Gillespie)',\n",
       " 'Sjoblom, Miss. Anna Sofia',\n",
       " 'Sage, Miss. Stella Anna',\n",
       " 'Leader, Dr. Alice (Farnham)',\n",
       " 'Osman, Mrs. Mara',\n",
       " 'Van Impe, Mrs. Jean Baptiste (Rosalie Paula Govaert)',\n",
       " 'Collyer, Mrs. Harvey (Charlotte Annie Tate)',\n",
       " 'Pettersson, Miss. Ellen Natalia',\n",
       " 'Chambers, Mrs. Norman Campbell (Bertha Griggs)',\n",
       " 'Andersson, Miss. Ebba Iris Alfrida',\n",
       " 'Heininen, Miss. Wendla Maria',\n",
       " 'Hays, Mrs. Charles Melville (Clara Jennings Gregg)',\n",
       " 'Moor, Mrs. (Beila)',\n",
       " 'Stone, Mrs. George Nelson (Martha Evelyn)',\n",
       " 'Yasbeck, Mrs. Antoni (Selini Alexander)',\n",
       " 'Compton, Miss. Sara Rebecca',\n",
       " 'Serepeca, Miss. Augusta',\n",
       " 'Goldenberg, Mrs. Samuel L (Edwiga Grabowska)',\n",
       " 'Boulos, Miss. Nourelain',\n",
       " 'Lines, Miss. Mary Conover',\n",
       " 'Carter, Mrs. Ernest Courtenay (Lilian Hughes)',\n",
       " 'Aks, Mrs. Sam (Leah Rosen)',\n",
       " 'Wick, Mrs. George Dennick (Mary Hitchcock)',\n",
       " 'Baclini, Mrs. Solomon (Latifa Qurban)',\n",
       " 'Swift, Mrs. Frederick Joel (Margaret Welles Barron)',\n",
       " 'Sage, Miss. Dorothy Edith \"Dolly\"',\n",
       " 'Bystrom, Mrs. (Karolina)',\n",
       " 'Duran y More, Miss. Asuncion',\n",
       " 'Beckwith, Mrs. Richard Leonard (Sallie Monypeny)',\n",
       " 'Abelson, Mrs. Samuel (Hannah Wizosky)',\n",
       " 'Najib, Miss. Adele Kiamie \"Jane\"',\n",
       " 'Potter, Mrs. Thomas Jr (Lily Alexenia Wilson)',\n",
       " 'Shelley, Mrs. William (Imanita Parrish Hall)',\n",
       " 'Dahlberg, Miss. Gerda Ulrika',\n",
       " 'Rice, Mrs. William (Margaret Norton)',\n",
       " 'Graham, Miss. Margaret Edith',\n",
       " 'Johnston, Miss. Catherine Helen \"Carrie\"']"
      ]
     },
     "execution_count": 13,
     "metadata": {},
     "output_type": "execute_result"
    }
   ],
   "source": [
    "woman_names =[i for i in data.loc[data['Sex']=='female']['Name'].tolist()]\n",
    "woman_names\n",
    "# Counter(woman_names).most_common(1)[0][0]"
   ]
  },
  {
   "cell_type": "code",
   "execution_count": 14,
   "metadata": {},
   "outputs": [],
   "source": [
    "task6 = open(\"../data/submissions/week1_task6.txt\",\"w\")\n",
    "task6.write(\"Elizabeth \") \n",
    "task6.close()"
   ]
  },
  {
   "cell_type": "code",
   "execution_count": null,
   "metadata": {},
   "outputs": [],
   "source": []
  },
  {
   "cell_type": "markdown",
   "metadata": {},
   "source": [
    "Загрузите выборку из файла titanic.csv с помощью пакета Pandas"
   ]
  },
  {
   "cell_type": "code",
   "execution_count": 15,
   "metadata": {},
   "outputs": [
    {
     "data": {
      "text/html": [
       "<div>\n",
       "<style scoped>\n",
       "    .dataframe tbody tr th:only-of-type {\n",
       "        vertical-align: middle;\n",
       "    }\n",
       "\n",
       "    .dataframe tbody tr th {\n",
       "        vertical-align: top;\n",
       "    }\n",
       "\n",
       "    .dataframe thead th {\n",
       "        text-align: right;\n",
       "    }\n",
       "</style>\n",
       "<table border=\"1\" class=\"dataframe\">\n",
       "  <thead>\n",
       "    <tr style=\"text-align: right;\">\n",
       "      <th></th>\n",
       "      <th>PassengerId</th>\n",
       "      <th>Survived</th>\n",
       "      <th>Pclass</th>\n",
       "      <th>Name</th>\n",
       "      <th>Sex</th>\n",
       "      <th>Age</th>\n",
       "      <th>SibSp</th>\n",
       "      <th>Parch</th>\n",
       "      <th>Ticket</th>\n",
       "      <th>Fare</th>\n",
       "      <th>Cabin</th>\n",
       "      <th>Embarked</th>\n",
       "    </tr>\n",
       "  </thead>\n",
       "  <tbody>\n",
       "    <tr>\n",
       "      <td>0</td>\n",
       "      <td>1</td>\n",
       "      <td>0</td>\n",
       "      <td>3</td>\n",
       "      <td>Braund, Mr. Owen Harris</td>\n",
       "      <td>male</td>\n",
       "      <td>22.0</td>\n",
       "      <td>1</td>\n",
       "      <td>0</td>\n",
       "      <td>A/5 21171</td>\n",
       "      <td>7.2500</td>\n",
       "      <td>NaN</td>\n",
       "      <td>S</td>\n",
       "    </tr>\n",
       "    <tr>\n",
       "      <td>1</td>\n",
       "      <td>2</td>\n",
       "      <td>1</td>\n",
       "      <td>1</td>\n",
       "      <td>Cumings, Mrs. John Bradley (Florence Briggs Th...</td>\n",
       "      <td>female</td>\n",
       "      <td>38.0</td>\n",
       "      <td>1</td>\n",
       "      <td>0</td>\n",
       "      <td>PC 17599</td>\n",
       "      <td>71.2833</td>\n",
       "      <td>C85</td>\n",
       "      <td>C</td>\n",
       "    </tr>\n",
       "    <tr>\n",
       "      <td>2</td>\n",
       "      <td>3</td>\n",
       "      <td>1</td>\n",
       "      <td>3</td>\n",
       "      <td>Heikkinen, Miss. Laina</td>\n",
       "      <td>female</td>\n",
       "      <td>26.0</td>\n",
       "      <td>0</td>\n",
       "      <td>0</td>\n",
       "      <td>STON/O2. 3101282</td>\n",
       "      <td>7.9250</td>\n",
       "      <td>NaN</td>\n",
       "      <td>S</td>\n",
       "    </tr>\n",
       "    <tr>\n",
       "      <td>3</td>\n",
       "      <td>4</td>\n",
       "      <td>1</td>\n",
       "      <td>1</td>\n",
       "      <td>Futrelle, Mrs. Jacques Heath (Lily May Peel)</td>\n",
       "      <td>female</td>\n",
       "      <td>35.0</td>\n",
       "      <td>1</td>\n",
       "      <td>0</td>\n",
       "      <td>113803</td>\n",
       "      <td>53.1000</td>\n",
       "      <td>C123</td>\n",
       "      <td>S</td>\n",
       "    </tr>\n",
       "    <tr>\n",
       "      <td>4</td>\n",
       "      <td>5</td>\n",
       "      <td>0</td>\n",
       "      <td>3</td>\n",
       "      <td>Allen, Mr. William Henry</td>\n",
       "      <td>male</td>\n",
       "      <td>35.0</td>\n",
       "      <td>0</td>\n",
       "      <td>0</td>\n",
       "      <td>373450</td>\n",
       "      <td>8.0500</td>\n",
       "      <td>NaN</td>\n",
       "      <td>S</td>\n",
       "    </tr>\n",
       "  </tbody>\n",
       "</table>\n",
       "</div>"
      ],
      "text/plain": [
       "   PassengerId  Survived  Pclass  \\\n",
       "0            1         0       3   \n",
       "1            2         1       1   \n",
       "2            3         1       3   \n",
       "3            4         1       1   \n",
       "4            5         0       3   \n",
       "\n",
       "                                                Name     Sex   Age  SibSp  \\\n",
       "0                            Braund, Mr. Owen Harris    male  22.0      1   \n",
       "1  Cumings, Mrs. John Bradley (Florence Briggs Th...  female  38.0      1   \n",
       "2                             Heikkinen, Miss. Laina  female  26.0      0   \n",
       "3       Futrelle, Mrs. Jacques Heath (Lily May Peel)  female  35.0      1   \n",
       "4                           Allen, Mr. William Henry    male  35.0      0   \n",
       "\n",
       "   Parch            Ticket     Fare Cabin Embarked  \n",
       "0      0         A/5 21171   7.2500   NaN        S  \n",
       "1      0          PC 17599  71.2833   C85        C  \n",
       "2      0  STON/O2. 3101282   7.9250   NaN        S  \n",
       "3      0            113803  53.1000  C123        S  \n",
       "4      0            373450   8.0500   NaN        S  "
      ]
     },
     "execution_count": 15,
     "metadata": {},
     "output_type": "execute_result"
    }
   ],
   "source": [
    "data.head()"
   ]
  },
  {
   "cell_type": "markdown",
   "metadata": {},
   "source": [
    "Оставьте в выборке четыре признака: класс пассажира (Pclass), цену билета (Fare), возраст пассажира (Age) и его пол (Sex)."
   ]
  },
  {
   "cell_type": "code",
   "execution_count": 16,
   "metadata": {},
   "outputs": [
    {
     "data": {
      "text/html": [
       "<div>\n",
       "<style scoped>\n",
       "    .dataframe tbody tr th:only-of-type {\n",
       "        vertical-align: middle;\n",
       "    }\n",
       "\n",
       "    .dataframe tbody tr th {\n",
       "        vertical-align: top;\n",
       "    }\n",
       "\n",
       "    .dataframe thead th {\n",
       "        text-align: right;\n",
       "    }\n",
       "</style>\n",
       "<table border=\"1\" class=\"dataframe\">\n",
       "  <thead>\n",
       "    <tr style=\"text-align: right;\">\n",
       "      <th></th>\n",
       "      <th>Survived</th>\n",
       "      <th>Pclass</th>\n",
       "      <th>Sex</th>\n",
       "      <th>Age</th>\n",
       "      <th>Fare</th>\n",
       "    </tr>\n",
       "  </thead>\n",
       "  <tbody>\n",
       "    <tr>\n",
       "      <td>0</td>\n",
       "      <td>0</td>\n",
       "      <td>3</td>\n",
       "      <td>male</td>\n",
       "      <td>22.0</td>\n",
       "      <td>7.2500</td>\n",
       "    </tr>\n",
       "    <tr>\n",
       "      <td>1</td>\n",
       "      <td>1</td>\n",
       "      <td>1</td>\n",
       "      <td>female</td>\n",
       "      <td>38.0</td>\n",
       "      <td>71.2833</td>\n",
       "    </tr>\n",
       "    <tr>\n",
       "      <td>2</td>\n",
       "      <td>1</td>\n",
       "      <td>3</td>\n",
       "      <td>female</td>\n",
       "      <td>26.0</td>\n",
       "      <td>7.9250</td>\n",
       "    </tr>\n",
       "    <tr>\n",
       "      <td>3</td>\n",
       "      <td>1</td>\n",
       "      <td>1</td>\n",
       "      <td>female</td>\n",
       "      <td>35.0</td>\n",
       "      <td>53.1000</td>\n",
       "    </tr>\n",
       "    <tr>\n",
       "      <td>4</td>\n",
       "      <td>0</td>\n",
       "      <td>3</td>\n",
       "      <td>male</td>\n",
       "      <td>35.0</td>\n",
       "      <td>8.0500</td>\n",
       "    </tr>\n",
       "  </tbody>\n",
       "</table>\n",
       "</div>"
      ],
      "text/plain": [
       "   Survived  Pclass     Sex   Age     Fare\n",
       "0         0       3    male  22.0   7.2500\n",
       "1         1       1  female  38.0  71.2833\n",
       "2         1       3  female  26.0   7.9250\n",
       "3         1       1  female  35.0  53.1000\n",
       "4         0       3    male  35.0   8.0500"
      ]
     },
     "execution_count": 16,
     "metadata": {},
     "output_type": "execute_result"
    }
   ],
   "source": [
    "data_part = data.drop(columns=['PassengerId', 'Name', 'SibSp', 'Parch', 'Ticket', 'Cabin', 'Embarked'])\n",
    "data_part.head()"
   ]
  },
  {
   "cell_type": "markdown",
   "metadata": {},
   "source": [
    "Обратите внимание, что признак Sex имеет строковые значения"
   ]
  },
  {
   "cell_type": "code",
   "execution_count": 17,
   "metadata": {},
   "outputs": [
    {
     "data": {
      "text/html": [
       "<div>\n",
       "<style scoped>\n",
       "    .dataframe tbody tr th:only-of-type {\n",
       "        vertical-align: middle;\n",
       "    }\n",
       "\n",
       "    .dataframe tbody tr th {\n",
       "        vertical-align: top;\n",
       "    }\n",
       "\n",
       "    .dataframe thead th {\n",
       "        text-align: right;\n",
       "    }\n",
       "</style>\n",
       "<table border=\"1\" class=\"dataframe\">\n",
       "  <thead>\n",
       "    <tr style=\"text-align: right;\">\n",
       "      <th></th>\n",
       "      <th>Survived</th>\n",
       "      <th>Pclass</th>\n",
       "      <th>Sex</th>\n",
       "      <th>Age</th>\n",
       "      <th>Fare</th>\n",
       "    </tr>\n",
       "  </thead>\n",
       "  <tbody>\n",
       "    <tr>\n",
       "      <td>0</td>\n",
       "      <td>0</td>\n",
       "      <td>3</td>\n",
       "      <td>0</td>\n",
       "      <td>22.0</td>\n",
       "      <td>7.2500</td>\n",
       "    </tr>\n",
       "    <tr>\n",
       "      <td>1</td>\n",
       "      <td>1</td>\n",
       "      <td>1</td>\n",
       "      <td>1</td>\n",
       "      <td>38.0</td>\n",
       "      <td>71.2833</td>\n",
       "    </tr>\n",
       "    <tr>\n",
       "      <td>2</td>\n",
       "      <td>1</td>\n",
       "      <td>3</td>\n",
       "      <td>1</td>\n",
       "      <td>26.0</td>\n",
       "      <td>7.9250</td>\n",
       "    </tr>\n",
       "    <tr>\n",
       "      <td>3</td>\n",
       "      <td>1</td>\n",
       "      <td>1</td>\n",
       "      <td>1</td>\n",
       "      <td>35.0</td>\n",
       "      <td>53.1000</td>\n",
       "    </tr>\n",
       "    <tr>\n",
       "      <td>4</td>\n",
       "      <td>0</td>\n",
       "      <td>3</td>\n",
       "      <td>0</td>\n",
       "      <td>35.0</td>\n",
       "      <td>8.0500</td>\n",
       "    </tr>\n",
       "  </tbody>\n",
       "</table>\n",
       "</div>"
      ],
      "text/plain": [
       "   Survived  Pclass  Sex   Age     Fare\n",
       "0         0       3    0  22.0   7.2500\n",
       "1         1       1    1  38.0  71.2833\n",
       "2         1       3    1  26.0   7.9250\n",
       "3         1       1    1  35.0  53.1000\n",
       "4         0       3    0  35.0   8.0500"
      ]
     },
     "execution_count": 17,
     "metadata": {},
     "output_type": "execute_result"
    }
   ],
   "source": [
    "# male - 0, female - 1\n",
    "data_part['Sex'] = [0 if i=='male' else 1 for i in data_part['Sex']]\n",
    "data_part.head()"
   ]
  },
  {
   "cell_type": "markdown",
   "metadata": {},
   "source": [
    "В данных есть пропущенные значения — например, для некоторых пассажиров неизвестен их возраст. Такие записи при чтении их в pandas принимают значение nan. Найдите все объекты, у которых есть пропущенные признаки, и удалите их из выборки"
   ]
  },
  {
   "cell_type": "code",
   "execution_count": 18,
   "metadata": {},
   "outputs": [],
   "source": [
    "data_part = data_part.dropna()"
   ]
  },
  {
   "cell_type": "markdown",
   "metadata": {},
   "source": [
    "Выделите целевую переменную — она записана в столбце Survived"
   ]
  },
  {
   "cell_type": "code",
   "execution_count": 19,
   "metadata": {},
   "outputs": [],
   "source": [
    "target = data_part['Survived'].tolist()\n",
    "data_part = data_part.drop(columns='Survived')"
   ]
  },
  {
   "cell_type": "markdown",
   "metadata": {},
   "source": [
    "Обучите решающее дерево с параметром random_state=241 и остальными параметрами по умолчанию \n",
    "(речь идет о параметрах конструктора DecisionTreeСlassifier)."
   ]
  },
  {
   "cell_type": "code",
   "execution_count": 20,
   "metadata": {},
   "outputs": [
    {
     "data": {
      "text/plain": [
       "DecisionTreeClassifier(class_weight=None, criterion='gini', max_depth=None,\n",
       "                       max_features=None, max_leaf_nodes=None,\n",
       "                       min_impurity_decrease=0.0, min_impurity_split=None,\n",
       "                       min_samples_leaf=1, min_samples_split=2,\n",
       "                       min_weight_fraction_leaf=0.0, presort=False,\n",
       "                       random_state=241, splitter='best')"
      ]
     },
     "execution_count": 20,
     "metadata": {},
     "output_type": "execute_result"
    }
   ],
   "source": [
    "clf = DecisionTreeClassifier(random_state=241)\n",
    "clf.fit(data_part.values, target)"
   ]
  },
  {
   "cell_type": "markdown",
   "metadata": {},
   "source": [
    "Вычислите важности признаков и найдите два признака с наибольшей важностью. \n",
    "Их названия будут ответами для данной задачи (в качестве ответа укажите названия признаков через запятую или пробел, \n",
    "                                              порядок не важен)."
   ]
  },
  {
   "cell_type": "code",
   "execution_count": 21,
   "metadata": {},
   "outputs": [
    {
     "data": {
      "text/plain": [
       "array([0.14751816, 0.30051221, 0.25124241, 0.30072722])"
      ]
     },
     "execution_count": 21,
     "metadata": {},
     "output_type": "execute_result"
    }
   ],
   "source": [
    "clf.feature_importances_"
   ]
  },
  {
   "cell_type": "code",
   "execution_count": 22,
   "metadata": {},
   "outputs": [
    {
     "data": {
      "text/plain": [
       "Index(['Pclass', 'Sex', 'Age', 'Fare'], dtype='object')"
      ]
     },
     "execution_count": 22,
     "metadata": {},
     "output_type": "execute_result"
    }
   ],
   "source": [
    "data_part.columns"
   ]
  },
  {
   "cell_type": "code",
   "execution_count": 23,
   "metadata": {},
   "outputs": [],
   "source": [
    "task1_tree = open(\"../data/submissions/week1_task1_tree.txt\",\"w\")\n",
    "task1_tree.write(\"Sex Fare\") \n",
    "task1_tree.close()"
   ]
  }
 ],
 "metadata": {
  "kernelspec": {
   "display_name": "Python 3",
   "language": "python",
   "name": "python3"
  },
  "language_info": {
   "codemirror_mode": {
    "name": "ipython",
    "version": 3
   },
   "file_extension": ".py",
   "mimetype": "text/x-python",
   "name": "python",
   "nbconvert_exporter": "python",
   "pygments_lexer": "ipython3",
   "version": "3.7.3"
  }
 },
 "nbformat": 4,
 "nbformat_minor": 2
}
